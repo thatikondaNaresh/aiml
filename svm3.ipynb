{
 "cells": [
  {
   "cell_type": "code",
   "execution_count": null,
   "metadata": {},
   "outputs": [],
   "source": [
    "\n",
    "\n",
    "Q1:\n",
    "The best regression metric to employ in this situation would be the Mean Squared Error (MSE) or the Root Mean Squared Error (RMSE). These metrics measure the average squared difference between predicted and actual values, which is suitable for predicting house prices.\n",
    "\n",
    "Q2:\n",
    "If your goal is to predict the actual price of a house as accurately as possible, MSE or RMSE would be more appropriate than R-squared. MSE and RMSE measure the absolute difference between predicted and actual values, while R-squared measures the relative difference.\n",
    "\n",
    "Q3:\n",
    "If the dataset has a significant number of outliers, the most appropriate regression metric would be the Mean Absolute Error (MAE) or the Mean Absolute Percentage Error (MAPE). These metrics are more robust to outliers than MSE or RMSE.\n",
    "\n",
    "Q4:\n",
    "If both MSE and RMSE values are very close, it means that the model is performing well in terms of both absolute and squared errors. In this case, you can choose either MSE or RMSE as the evaluation metric.\n",
    "\n",
    "Q5:\n",
    "If your goal is to measure how well the model explains the variance in the data, R-squared would be the most appropriate metric. R-squared measures the proportion of the variance in the dependent variable that is predictable from the independent variables. However, keep in mind that R-squared is not suitable for evaluating the accuracy of the predictions, and MSE or RMSE should also be considered."
   ]
  }
 ],
 "metadata": {
  "language_info": {
   "name": "python"
  }
 },
 "nbformat": 4,
 "nbformat_minor": 2
}
